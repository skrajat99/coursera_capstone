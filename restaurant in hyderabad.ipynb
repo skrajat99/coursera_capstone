{
 "cells": [
  {
   "cell_type": "markdown",
   "metadata": {},
   "source": [
    "# CAPSTONE PROJECT\n",
    "                                                              \n",
    "                    "
   ]
  },
  {
   "cell_type": "markdown",
   "metadata": {},
   "source": [
    "### Problem:"
   ]
  },
  {
   "cell_type": "markdown",
   "metadata": {},
   "source": [
    "In Hyderabad(India), **Pranay** wants to open a restaurant. He wants to open a type of restaurant that suits the regional demographic. He wants it to open at place where footfall is high from Middle Class."
   ]
  },
  {
   "cell_type": "markdown",
   "metadata": {},
   "source": [
    "#### Audience:"
   ]
  },
  {
   "cell_type": "markdown",
   "metadata": {},
   "source": [
    "Hyderabad Already has lots of restaurant and hence opening a new restaurant and attracting customers will be \n",
    "a challenging task. Hence to survive and thrive in the competition we have to be aware with the customer \n",
    "likes and dislike. Also we have to find the correct location to cater our target customers. Hence follows the analysis. "
   ]
  },
  {
   "cell_type": "markdown",
   "metadata": {},
   "source": [
    "#### Data Collection"
   ]
  },
  {
   "cell_type": "markdown",
   "metadata": {},
   "source": [
    "- We will use foursquare API for data collection\n",
    "- We will use *pandas* for dataframe handling"
   ]
  },
  {
   "cell_type": "markdown",
   "metadata": {},
   "source": [
    "#### Data Wrangling"
   ]
  },
  {
   "cell_type": "markdown",
   "metadata": {},
   "source": [
    "- We will search for number of restaurant in Hyderabad\n",
    "- We will query for type of restaurant in Hyderabad\n",
    "- We will find average ratings of each restaurant\n",
    "- We will find any Parks/monuments/tourist places nearby that restaurant\n",
    "- We will find any school/college/Office nearby that restaurant\n",
    "\n"
   ]
  },
  {
   "cell_type": "markdown",
   "metadata": {},
   "source": [
    "#### Modelling"
   ]
  },
  {
   "cell_type": "markdown",
   "metadata": {},
   "source": [
    "- We will try to find the relation between type of restaurant and average rating to find best suited type of restaurant\n",
    "- We will try to find the relation between number of reviews(footfall) of a restaurant that is in a close vicinity of a Public places like school,parks,etc\n",
    "- We will use ML Algorithms that best suites the need and plot a perfect place on Map."
   ]
  },
  {
   "cell_type": "markdown",
   "metadata": {},
   "source": [
    "#### Assumptions"
   ]
  },
  {
   "cell_type": "markdown",
   "metadata": {},
   "source": [
    "- The ratings entirely depends on food ethnicity, not on waiters service, waiting time or waiter services.\n",
    "- We assume that the quality of food is same at every restaurant.\n",
    "- We assume footfall is directly proportional to the number of reviews at a given restaurant."
   ]
  },
  {
   "cell_type": "code",
   "execution_count": null,
   "metadata": {},
   "outputs": [],
   "source": []
  }
 ],
 "metadata": {
  "kernelspec": {
   "display_name": "Python",
   "language": "python",
   "name": "conda-env-python-py"
  },
  "language_info": {
   "codemirror_mode": {
    "name": "ipython",
    "version": 3
   },
   "file_extension": ".py",
   "mimetype": "text/x-python",
   "name": "python",
   "nbconvert_exporter": "python",
   "pygments_lexer": "ipython3",
   "version": "3.6.10"
  }
 },
 "nbformat": 4,
 "nbformat_minor": 4
}
